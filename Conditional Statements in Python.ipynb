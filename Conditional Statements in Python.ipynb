{
 "cells": [
  {
   "cell_type": "markdown",
   "id": "f6f00809",
   "metadata": {},
   "source": [
    "## Conditional Statements in Python"
   ]
  },
  {
   "cell_type": "markdown",
   "id": "00fb62b4",
   "metadata": {},
   "source": [
    "### Objective:\n",
    "#### By the end of this lecture, you will:\n",
    "##### 1. Understand the concept of conditional statements.\n",
    "##### 2. Learn to use if, else, and elif in Python.\n",
    "##### 3. Apply nested and chained conditions effectively.\n",
    "##### 4. Practice writing Python code to solve decision-making problems."
   ]
  },
  {
   "cell_type": "markdown",
   "id": "739cd0bb",
   "metadata": {},
   "source": [
    "### 1. What are Conditional Statements?\n",
    "### Conditional statements allow a program to make decisions and execute certain code based on whether a condition is True or False.\n",
    "Python supports the following conditional statements:\n",
    "if statement\n",
    "else statement\n",
    "elif statement (else-if)"
   ]
  },
  {
   "cell_type": "markdown",
   "id": "458e83e8",
   "metadata": {},
   "source": [
    "### 1. What are Conditional Statements?\n",
    "#### Conditional statements allow a program to make decisions and execute certain code based on whether a condition is True or False.\n",
    "#### Python supports the following conditional statements:\n",
    "#### if statement\n",
    "#### else statement\n",
    "#### elif statement (else-if)"
   ]
  },
  {
   "cell_type": "markdown",
   "id": "c6734693",
   "metadata": {},
   "source": [
    "### Example:"
   ]
  },
  {
   "cell_type": "code",
   "execution_count": 1,
   "id": "ea67bff1",
   "metadata": {},
   "outputs": [
    {
     "name": "stdout",
     "output_type": "stream",
     "text": [
      "You are eligible to vote!\n"
     ]
    }
   ],
   "source": [
    "age = 18\n",
    "if age >= 18:\n",
    "    print(\"You are eligible to vote!\")"
   ]
  },
  {
   "cell_type": "markdown",
   "id": "73eb887d",
   "metadata": {},
   "source": [
    "### 2. The if Statement\n",
    "#### The if statement checks a condition.\n",
    "#### If the condition is True, the code block under it will run."
   ]
  },
  {
   "cell_type": "markdown",
   "id": "2055d944",
   "metadata": {},
   "source": [
    "### Syntax"
   ]
  },
  {
   "cell_type": "code",
   "execution_count": null,
   "id": "a158e25a",
   "metadata": {},
   "outputs": [],
   "source": [
    "if condition:\n",
    "    # Code to execute if the condition is True"
   ]
  },
  {
   "cell_type": "markdown",
   "id": "71ba29d1",
   "metadata": {},
   "source": [
    "### Example:"
   ]
  },
  {
   "cell_type": "code",
   "execution_count": 3,
   "id": "21e8b242",
   "metadata": {},
   "outputs": [
    {
     "name": "stdout",
     "output_type": "stream",
     "text": [
      "It's a hot day!\n"
     ]
    }
   ],
   "source": [
    "temperature = 30\n",
    "if temperature > 25:\n",
    "    print(\"It's a hot day!\")"
   ]
  },
  {
   "cell_type": "markdown",
   "id": "cd000a18",
   "metadata": {},
   "source": [
    "### 3. The else Statement\n",
    "#### Used to run a block of code if the condition in the if statement is False."
   ]
  },
  {
   "cell_type": "markdown",
   "id": "757ba6f2",
   "metadata": {},
   "source": [
    "### Syntax:"
   ]
  },
  {
   "cell_type": "code",
   "execution_count": 4,
   "id": "7dbda21d",
   "metadata": {},
   "outputs": [
    {
     "ename": "IndentationError",
     "evalue": "expected an indented block after 'if' statement on line 1 (1221847739.py, line 3)",
     "output_type": "error",
     "traceback": [
      "\u001b[0;36m  Cell \u001b[0;32mIn[4], line 3\u001b[0;36m\u001b[0m\n\u001b[0;31m    else:\u001b[0m\n\u001b[0m    ^\u001b[0m\n\u001b[0;31mIndentationError\u001b[0m\u001b[0;31m:\u001b[0m expected an indented block after 'if' statement on line 1\n"
     ]
    }
   ],
   "source": [
    "if condition:\n",
    "    # Code if condition is True\n",
    "else:\n",
    "    # Code if condition is False"
   ]
  },
  {
   "cell_type": "markdown",
   "id": "8b570083",
   "metadata": {},
   "source": [
    "### Example:"
   ]
  },
  {
   "cell_type": "code",
   "execution_count": 5,
   "id": "09dc1da0",
   "metadata": {},
   "outputs": [
    {
     "name": "stdout",
     "output_type": "stream",
     "text": [
      "You failed.\n"
     ]
    }
   ],
   "source": [
    "marks = 45\n",
    "if marks >= 50:\n",
    "    print(\"You passed!\")\n",
    "else:\n",
    "    print(\"You failed.\")"
   ]
  },
  {
   "cell_type": "markdown",
   "id": "d9f30cb5",
   "metadata": {},
   "source": [
    "### 4. The elif Statement\n",
    "#### Stands for else if and is used when multiple conditions need to be checked in sequence."
   ]
  },
  {
   "cell_type": "markdown",
   "id": "d6efb688",
   "metadata": {},
   "source": [
    "### Syntax"
   ]
  },
  {
   "cell_type": "code",
   "execution_count": null,
   "id": "2dda37b2",
   "metadata": {},
   "outputs": [],
   "source": [
    "if condition1:\n",
    "    # Code if condition1 is True\n",
    "elif condition2:\n",
    "    # Code if condition2 is True\n",
    "else:\n",
    "    # Code if none of the conditions are True"
   ]
  },
  {
   "cell_type": "markdown",
   "id": "daa79f54",
   "metadata": {},
   "source": [
    "### Example:"
   ]
  },
  {
   "cell_type": "code",
   "execution_count": null,
   "id": "10420684",
   "metadata": {},
   "outputs": [],
   "source": [
    "score = 75\n",
    "if score >= 90:\n",
    "    print(\"Grade: A\")\n",
    "elif score >= 80:\n",
    "    print(\"Grade: B\")\n",
    "elif score >= 70:\n",
    "    print(\"Grade: C\")\n",
    "else:\n",
    "    print(\"Grade: F\")"
   ]
  },
  {
   "cell_type": "markdown",
   "id": "f3c1765d",
   "metadata": {},
   "source": [
    "### 5. Nested if Statements\n",
    "#### An if statement inside another if statement. Useful for complex decision-making."
   ]
  },
  {
   "cell_type": "markdown",
   "id": "3e8fea5f",
   "metadata": {},
   "source": [
    "### Example:"
   ]
  },
  {
   "cell_type": "code",
   "execution_count": null,
   "id": "eb949a47",
   "metadata": {},
   "outputs": [],
   "source": [
    "age = 20\n",
    "gender = 'male'\n",
    "\n",
    "if age >= 18:\n",
    "    if gender == 'male':\n",
    "        print(\"You are an adult male.\")\n",
    "    else:\n",
    "        print(\"You are an adult female.\")\n",
    "else:\n",
    "    print(\"You are a minor.\")"
   ]
  },
  {
   "cell_type": "markdown",
   "id": "660515b0",
   "metadata": {},
   "source": [
    "### 6. Chained Conditions with and, or, and not\n",
    "### and: All conditions must be True.\n",
    "### or: At least one condition must be True.\n",
    "### not: Negates the condition.\n",
    "### Example 1 (using and):"
   ]
  },
  {
   "cell_type": "code",
   "execution_count": null,
   "id": "28ac9810",
   "metadata": {},
   "outputs": [],
   "source": [
    "age = 25\n",
    "income = 30000\n",
    "if age > 18 and income > 20000:\n",
    "    print(\"You are eligible for the loan.\")"
   ]
  },
  {
   "cell_type": "markdown",
   "id": "243dc749",
   "metadata": {},
   "source": [
    "### Example 2 (using or):"
   ]
  },
  {
   "cell_type": "code",
   "execution_count": null,
   "id": "6f3e66b8",
   "metadata": {},
   "outputs": [],
   "source": [
    "day = \"Saturday\"\n",
    "if day == \"Saturday\" or day == \"Sunday\":\n",
    "    print(\"It's the weekend!\")"
   ]
  },
  {
   "cell_type": "markdown",
   "id": "3daf0950",
   "metadata": {},
   "source": [
    "### Example 3 (using not):"
   ]
  },
  {
   "cell_type": "code",
   "execution_count": null,
   "id": "c60266d4",
   "metadata": {},
   "outputs": [],
   "source": [
    "logged_in = False\n",
    "if not logged_in:\n",
    "    print(\"Please log in.\")"
   ]
  },
  {
   "cell_type": "markdown",
   "id": "5349600f",
   "metadata": {},
   "source": [
    "### 7. The pass Statement\n",
    "#### Used as a placeholder when the body of the conditional is empty.\n",
    "### Example:"
   ]
  },
  {
   "cell_type": "code",
   "execution_count": 6,
   "id": "9063f92d",
   "metadata": {},
   "outputs": [],
   "source": [
    "if True:\n",
    "    pass  # Placeholder to avoid syntax error"
   ]
  },
  {
   "cell_type": "markdown",
   "id": "9f1c4920",
   "metadata": {},
   "source": [
    "### 8. Common Mistakes with Conditional Statements\n",
    "#### Incorrect Indentation: All statements under an if block must have the same indentation.\n",
    "#### Using = instead of ==: = is assignment, while == checks equality.\n",
    "#### Forgetting to use elif: If multiple conditions are checked with only if, each is evaluated independently."
   ]
  },
  {
   "cell_type": "markdown",
   "id": "72f49119",
   "metadata": {},
   "source": [
    "### 9. Class Activity / Practice Problems\n",
    "#### Write a program to check if a number is positive, negative, or zero.\n",
    "#### Create a program to determine whether a given year is a leap year.\n",
    "#### Build a simple calculator that asks for two numbers and an operator (+, -, *, /) and prints the result."
   ]
  },
  {
   "cell_type": "markdown",
   "id": "9ddb89cb",
   "metadata": {},
   "source": [
    "### Write a Python program that accepts a student's marks and prints the appropriate grade based on the following criteria:\n",
    "#### A: 85 and above\n",
    "#### B: 70 to 84\n",
    "#### C: 50 to 69\n",
    "#### F: Below 50"
   ]
  },
  {
   "cell_type": "markdown",
   "id": "1ef6c2b0",
   "metadata": {},
   "source": [
    "### 10. Summary\n",
    "#### if is used for a single condition.\n",
    "#### else provides an alternative if the if condition is False.\n",
    "#### elif allows checking multiple conditions.\n",
    "#### Use logical operators to combine multiple conditions."
   ]
  },
  {
   "cell_type": "code",
   "execution_count": null,
   "id": "a6e8d02c",
   "metadata": {},
   "outputs": [],
   "source": []
  }
 ],
 "metadata": {
  "kernelspec": {
   "display_name": "Python 3 (ipykernel)",
   "language": "python",
   "name": "python3"
  },
  "language_info": {
   "codemirror_mode": {
    "name": "ipython",
    "version": 3
   },
   "file_extension": ".py",
   "mimetype": "text/x-python",
   "name": "python",
   "nbconvert_exporter": "python",
   "pygments_lexer": "ipython3",
   "version": "3.11.3"
  }
 },
 "nbformat": 4,
 "nbformat_minor": 5
}
